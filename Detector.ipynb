{
 "cells": [
  {
   "cell_type": "code",
   "execution_count": 1,
   "id": "dec68427",
   "metadata": {},
   "outputs": [],
   "source": [
    "import cv2\n",
    "import torch\n",
    "import torch.nn as nn\n",
    "import torch.nn.functional as F\n",
    "from torch.autograd import Variable\n",
    "import torchvision.datasets as dset\n",
    "import torchvision.transforms as transforms\n",
    "import numpy as np\n",
    "from PIL import ImageOps\n",
    "import torch.optim as optim\n",
    "from PIL import Image\n",
    "import matplotlib.pyplot as plt\n",
    "import time\n",
    "import imutils\n",
    "import operator\n",
    "from PIL import Image"
   ]
  },
  {
   "cell_type": "markdown",
   "id": "939301c4",
   "metadata": {},
   "source": [
    "Una vez tenemos todas la bibliotecas importadas, creamos la clase Red"
   ]
  },
  {
   "cell_type": "code",
   "execution_count": 2,
   "id": "04b05c70",
   "metadata": {},
   "outputs": [],
   "source": [
    "class Net(nn.Module):\n",
    "    def __init__(self):\n",
    "        super(Net, self).__init__()\n",
    "        \n",
    "        #Capas que componen el cuerpo:\n",
    "        self.body= nn.Sequential(\n",
    "        #Primera capa convolucional:\n",
    "        nn.Conv2d(in_channels= 1, out_channels= 32,kernel_size= 5),\n",
    "        #Capa Maxpooling:\n",
    "        nn.MaxPool2d(kernel_size= 2),\n",
    "        #Capa función ReLU:\n",
    "        nn.ReLU(inplace= True),\n",
    "        #Segunda capa convolucional:\n",
    "        nn.Conv2d(in_channels= 32, out_channels= 128, kernel_size= 5),\n",
    "        #Capa función ReLU:\n",
    "        nn.ReLU(inplace= True),\n",
    "        #Capa MaxPolling:\n",
    "        nn.MaxPool2d(kernel_size= 2),\n",
    "        #Capa Dropout:\n",
    "        nn.Dropout2d(),\n",
    "        #Capa función ReLU:\n",
    "        nn.ReLU(inplace= True)\n",
    "        )\n",
    "        \n",
    "        #Capas que componen la cabeza:\n",
    "        self.head= nn.Sequential(\n",
    "        #Capa de entrada:\n",
    "        nn.Linear(in_features= 3200, out_features= 2048),\n",
    "        #Capa funcional ReLu:\n",
    "        nn.ReLU(inplace= True),\n",
    "        #Capa fully connected:\n",
    "        nn.Linear(in_features= 2048, out_features= 512),\n",
    "        #Capa funcional ReLU:\n",
    "        nn.ReLU(inplace= True),\n",
    "        #Capa de salida:\n",
    "        nn.Linear(in_features= 512, out_features= 47))\n",
    "\n",
    "    def forward(self, x):\n",
    "        \n",
    "        x= self.body(x)\n",
    "        x= x.view(x.size()[0], -1)\n",
    "        x= self.head(x)\n",
    "        \n",
    "        return x"
   ]
  },
  {
   "cell_type": "markdown",
   "id": "813c1ac7",
   "metadata": {},
   "source": [
    "Necesitamos un identificador de cada número y letra para el posterior entrenamiento"
   ]
  },
  {
   "cell_type": "code",
   "execution_count": 3,
   "id": "2c0d9846",
   "metadata": {},
   "outputs": [],
   "source": [
    "idt = ['0','1','2','3','4','5','6','7','8','9','A','B','C','D','E','F','G','H','I','J','K','L','M','N',\n",
    "       'O','P','Q','R','S','T','U','V','W','X','Y','Z']"
   ]
  },
  {
   "cell_type": "code",
   "execution_count": 4,
   "id": "febfed07",
   "metadata": {},
   "outputs": [],
   "source": [
    "#La función PIL permite abrir una imagen y tratarla para convertirla\n",
    "#a un estilo determinado.\n",
    "def pil_loader(path):\n",
    "    with open(path, 'rb') as f:\n",
    "        img = Image.open(f)\n",
    "        return img.convert('L')"
   ]
  },
  {
   "cell_type": "markdown",
   "id": "859f8574",
   "metadata": {},
   "source": [
    "A continuación se muestra la parte de entrenamiento"
   ]
  },
  {
   "cell_type": "code",
   "execution_count": 5,
   "id": "aa0e7ae8",
   "metadata": {},
   "outputs": [],
   "source": [
    "#A la función train se le pasa el número de épocas,\n",
    "#el modelo de la red, el optimizador y el conjunto de datos:\n",
    "def train(epoch, model, optimizer, loader):\n",
    "    model.train()\n",
    "    for batch_idx, (data, target) in enumerate(loader):\n",
    "        data, target = data.cpu(), target.cpu() \n",
    "        data, target = Variable(data), Variable(target)\n",
    "        optimizer.zero_grad()\n",
    "        output = model(data)\n",
    "        loss = nn.CrossEntropyLoss()\n",
    "        output = loss(output, target)\n",
    "        output.backward()\n",
    "        optimizer.step()\n",
    "        if batch_idx % 100 == 0:\n",
    "            print('Train Epoch: {} \\tLoss: {:.6f}'.format(\n",
    "                 epoch, output.data.item()))"
   ]
  },
  {
   "cell_type": "markdown",
   "id": "238e3603",
   "metadata": {},
   "source": [
    "Se define una función de predicción de los caracteres"
   ]
  },
  {
   "cell_type": "code",
   "execution_count": 6,
   "id": "e1a6f5f5",
   "metadata": {},
   "outputs": [],
   "source": [
    "#Función para predecir el caracter alfanumérico:\n",
    "def predecir_char(gray, model):\n",
    "    w = gray.size[0] #Ancho\n",
    "    h = gray.size[1] #Alto\n",
    "    gray = gray.convert('L') #Pasar a gris\n",
    "    gray = gray.point(lambda x: 0 if x<180 else 255, '1')\n",
    "    x= int(16- (w/2)) #Esquina x de la caja\n",
    "    y = int(16- (h/2))#Esquina y de la caja\n",
    "    canvas = Image.new('L', (32, 32), (255)) #Transformar la imagen a una 32*32\n",
    "    canvas.paste(gray, box=(x, y)) #Copiar la caja en la imagen\n",
    "    canvas = np.array(canvas) #Pasar a array\n",
    "    test_output = model(Variable(torch.FloatTensor(canvas).unsqueeze(0).unsqueeze(0).cpu())) #Pasar a tensor\n",
    "    pred = test_output.data.max(1, keepdim=True)[1] \n",
    "    pred = np.array(pred).squeeze(0).squeeze(0)\n",
    "    plt.imshow(canvas) #Mostrar resultado\n",
    "    plt.show()\n",
    "    return idt[pred]"
   ]
  },
  {
   "cell_type": "markdown",
   "id": "4e840f7f",
   "metadata": {},
   "source": [
    "Necesitamos definir una función de segmentación para separar los caracteres de\n",
    "la matrícula y mirar si coincide con alguno de los caracteres almacenados"
   ]
  },
  {
   "cell_type": "code",
   "execution_count": 7,
   "id": "40f87dd1",
   "metadata": {},
   "outputs": [],
   "source": [
    "def digit_segmentation(image):\n",
    "    gray = cv2.cvtColor(image, cv2.COLOR_BGR2GRAY) #Pasar a gris\n",
    "    thresh = cv2.threshold(gray, 85, 240, cv2.THRESH_BINARY)[1] #Aplicar threshold binario\n",
    "    cnts = cv2.findContours(thresh.copy(), cv2.RETR_TREE, cv2.CHAIN_APPROX_SIMPLE)[0] #Sacar los contornos\n",
    "    digits = {} #Crear un diccionario para los dígitos\n",
    "    for c in cnts: #Recorrer todos los contornos de la imagen\n",
    "        (x, y, w, h) = cv2.boundingRect(c)\n",
    "        if (w > 90 and w < 300) and (h > 90 and h < 300): #Si se encuentra en estos umbrales, puede ser dígito\n",
    "            cv2.rectangle(image, (x - 10, y - 10), (x + w + 10, y + h + 10), (255, 0, 0), 5) #Creamos un rectángulo\n",
    "            roi = thresh[y : y + h, x : x + w]\n",
    "            digits[x] = roi #Guardamos la región de interés en el diccionario\n",
    "\n",
    "    return digits\n",
    "\n",
    "def save_digits(images):\n",
    "    for idx, image in enumerate(images): #Para cada ídice e imagen\n",
    "        image = cv2.resize(image, (28, 32), interpolation = cv2.INTER_CUBIC) #Redimensionar\n",
    "        image = roi_center(image) #Centrar el dígito de la imagen\n",
    "        cv2.imwrite('./Test/test{}.jpg'.format(idx), image) #Guardar la imagen recortada con el caracter\n",
    "\n",
    "\n",
    "def roi_center(roi):\n",
    "    ALTURA_ROI = 28\n",
    "    ANCHURA_ROI = 32\n",
    "    ANCHO_BORDE = 4\n",
    "\n",
    "    relacion_aspecto_roi = float(roi.shape[1]) / float(roi.shape[0]) #Ratio de la región de interés\n",
    "    nueva_anchura = int((ALTURA_ROI * relacion_aspecto_roi) + 0.5)\n",
    "    b_top = ANCHO_BORDE\n",
    "    b_bottom = ANCHO_BORDE\n",
    "    b_left = int((ANCHURA_ROI - nueva_anchura) / 2)\n",
    "    b_right = int((ANCHURA_ROI- nueva_anchura) / 2)\n",
    "    #Añadir unas dimensiones corregidas al borde de la región de interés \n",
    "    roi_borde = cv2.copyMakeBorder(roi,b_top,b_bottom,b_left,b_right,cv2.BORDER_CONSTANT,value=[255,255,255])\n",
    "    roi_trans = cv2.resize(roi_borde,(32,32)) #Redimensionar esa región\n",
    "    return roi_trans\n",
    "\n",
    "\n",
    "image_src = cv2.imread(\"./matriculas/matricula8.jpg\") #Leemos la imagen\n",
    "image_src = imutils.resize(image_src, height=800) #Redimensionamos\n",
    "result = digit_segmentation(image_src)\n",
    "result_sort = sorted(result.items(), key=operator.itemgetter(0)) #Almacenar el diccionario de dígitos\n",
    "final_result = []\n",
    "\n",
    "for r in result_sort:\n",
    "    #print r[0]\n",
    "    final_result.append(r[1])\n",
    "\n",
    "save_digits(final_result)"
   ]
  },
  {
   "cell_type": "markdown",
   "id": "58639986",
   "metadata": {},
   "source": [
    "Entrenamos el modelo"
   ]
  },
  {
   "cell_type": "code",
   "execution_count": null,
   "id": "d84836d7",
   "metadata": {},
   "outputs": [],
   "source": [
    "if __name__ == \"__main__\":\n",
    "    \n",
    "    trans = transforms.Compose([transforms.Resize((32,32)), transforms.ToTensor()])\n",
    "    mydata = dset.ImageFolder('./caracteres',transform=trans, loader=pil_loader)\n",
    "    loader = torch.utils.data.DataLoader(mydata, batch_size=128, shuffle=True, num_workers=2)\n",
    "\n",
    "    model = Net()\n",
    "    model.cpu()\n",
    "    optimizer = optim.Adam(model.parameters(), lr=1e-4, eps=1e-4)\n",
    "    for epoch in range(10):\n",
    "        train(epoch, model, optimizer, loader)\n",
    "    torch.save(model.state_dict(), 'char_recognizer.pt')"
   ]
  },
  {
   "cell_type": "markdown",
   "id": "5b3e241f",
   "metadata": {},
   "source": [
    "Hacemos la prueba con los pesos de la red y las imágenes de test"
   ]
  },
  {
   "cell_type": "code",
   "execution_count": 9,
   "id": "4617b99c",
   "metadata": {},
   "outputs": [
    {
     "data": {
      "image/png": "[encoded data removed]",
      "text/plain": [
       "<Figure size 640x480 with 1 Axes>"
      ]
     },
     "metadata": {},
     "output_type": "display_data"
    },
    {
     "data": {
      "image/png": "[encoded data removed]",
      "text/plain": [
       "<Figure size 640x480 with 1 Axes>"
      ]
     },
     "metadata": {},
     "output_type": "display_data"
    },
    {
     "data": {
      "image/png": "[encoded data removed]",
      "text/plain": [
       "<Figure size 640x480 with 1 Axes>"
      ]
     },
     "metadata": {},
     "output_type": "display_data"
    },
    {
     "data": {
      "image/png": "[encoded data removed]",
      "text/plain": [
       "<Figure size 640x480 with 1 Axes>"
      ]
     },
     "metadata": {},
     "output_type": "display_data"
    },
    {
     "data": {
      "image/png": "[encoded data removed]",
      "text/plain": [
       "<Figure size 640x480 with 1 Axes>"
      ]
     },
     "metadata": {},
     "output_type": "display_data"
    },
    {
     "data": {
      "image/png": "[encoded data removed]",
      "text/plain": [
       "<Figure size 640x480 with 1 Axes>"
      ]
     },
     "metadata": {},
     "output_type": "display_data"
    },
    {
     "data": {
      "image/png": "[encoded data removed]",
      "text/plain": [
       "<Figure size 640x480 with 1 Axes>"
      ]
     },
     "metadata": {},
     "output_type": "display_data"
    },
    {
     "name": "stdout",
     "output_type": "stream",
     "text": [
      "\n",
      "La matricula es:   88OBKZS\n"
     ]
    }
   ],
   "source": [
    "#Devolvemos el resultado:\n",
    "model.load_state_dict(torch.load(\"char_recognizer.pt\"))\n",
    "model.cpu()\n",
    "\n",
    "res = \"\"\n",
    "for i in range(7):\n",
    "    pil_im = Image.open(\"./Test/test{}.jpg\".format(i))\n",
    "    res += predecir_char(pil_im, model)\n",
    "print ('\\nLa matricula es:  ', res)"
   ]
  }
 ],
 "metadata": {
  "kernelspec": {
   "display_name": "Python 3 (ipykernel)",
   "language": "python",
   "name": "python3"
  },
  "language_info": {
   "codemirror_mode": {
    "name": "ipython",
    "version": 3
   },
   "file_extension": ".py",
   "mimetype": "text/x-python",
   "name": "python",
   "nbconvert_exporter": "python",
   "pygments_lexer": "ipython3",
   "version": "3.8.20"
  }
 },
 "nbformat": 4,
 "nbformat_minor": 5
}
